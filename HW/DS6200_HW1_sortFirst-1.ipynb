{
 "cells": [
  {
   "cell_type": "markdown",
   "metadata": {
    "id": "YgaqXBYJDx0D"
   },
   "source": [
    "# DS6200 HW #1. Improve code Efficiency: Sort First!\n",
    "\n",
    "## Description.\n",
    "\n",
    "In this assingment, we will investigate the time complexity of a specific algorithm provided in the scenario below and propose updated algorithm that can achieve lower time complexity than that of the existing one. By comparing the running time of the two algorithms, you will better understand the significance of the time complexity in the measurement of the efficiency of the algorithm.\n",
    "\n",
    "\n",
    "## Scenario. \n",
    "\n",
    "In a two-class classification problem, it is common to use a classifier that outputs confidences (rather than simply class labels). A good example of this is a Support Vector Machine. A pro for using such a classifier is that you gain more information -- specifically the confidence in the classification result. A con is that in order to make a final classification decision, a threshold value must be determined. For example, if a threshold of 0.75 is chosen, the class label 1 would be assigned for confidences greater than 0.75 and for confidences less than 0.75 a class label of 0 would be assigned. However, this begs the question: how is the threshold chosen?\n",
    "\n",
    "Many data scientists will choose a threshold based on the experimental results and/or operational constraints. In this code example, we assume that we have confidences and true labels for a large data set. To determine a good threshold we will compute the true positive rates (TPRs) and false positive rates (FPRs) at all relevant thresholds. The relevant thresholds are considered those that would change the TPRs and FPRs. \n",
    "\n",
    "In the code below, a function is defined to compute the TPR and FPR at all relevant thresholds. However, the code is not very efficient and can be improved. (Note there are tips and hints found in the comments.) \n",
    "\n",
    "Your task is the following:\n",
    "\n",
    "## Question 1\n",
    "**40 POINTS**  \n",
    "Assess the time complexity of the method computeAllTPRs(...). Provide a line-by-line assessment in comments identifying the proportional number of steps (bounding notation is sufficient) per line: eg, O(1), O(log n), O(n), etc. Also, derive a time step function T(n) for the entire method (where n is the size of input true_label).\n",
    "\n",
    "## Question 2\n",
    "**30 POINTS**  \n",
    "Implement a new function computeAllTPRs_improved(...) which performs the same task as computeAllTPRs but has a significantly reduced time complexity. Also provide a line-by-line assessment in comments identifying the proportional number of steps per line, and derive a time step function T(n) for the entire method (where n is the size of input true_label).\n",
    "\n",
    "## Question 3\n",
    "**30 POINTS**  \n",
    "Compare the theoretical time complexities of both methods and predict which is more efficient. Next, test your prediction by timing both methods on sample inputs of varying sizes. Create a plot of inputSize vs runtime (as done in similar class examples).  \n",
    "\n",
    "**NOTE: Do not include runtimes for graphing**\n",
    "\n",
    "**TOTAL POINTS: 100**\n",
    "\n",
    "---"
   ]
  },
  {
   "cell_type": "code",
   "execution_count": 1,
   "metadata": {
    "id": "tQs8b3ccEskN"
   },
   "outputs": [],
   "source": [
    "import matplotlib.pyplot as plt\n",
    "import random\n",
    "from copy import deepcopy\n",
    "from numpy import argmax"
   ]
  },
  {
   "cell_type": "markdown",
   "metadata": {
    "id": "l4t6Gd-XNWdr"
   },
   "source": [
    "Answer Question #1 in the comments of the code chunk below. "
   ]
  },
  {
   "cell_type": "code",
   "execution_count": 2,
   "metadata": {},
   "outputs": [],
   "source": [
    "def computeAllTPRs(true_label, confs):\n",
    "    '''\n",
    "\n",
    "    inputs:\n",
    "      - true_label: list of labels, assumed to be 0 or 1 (a two class problem)\n",
    "      - confs: list of confidences\n",
    "\n",
    "    This method computes the True Positive Rate (TPRs) and FPRs for all relevant\n",
    "    thresholds given true_label and confs. Relevant thresholds are considered\n",
    "    all different values found in confs.\n",
    "    '''\n",
    "\n",
    "    # Define / initialize  variables\n",
    "    sentinelValue = -1  #O(1) \n",
    "    totalPositives = sum(true_label) #O(n)\n",
    "    totalNegatives = len(true_label) - totalPositives #O(1)\n",
    "    #print(true_label)\n",
    "    truePositives = 0 #O(1)\n",
    "    falsePositives = 0 #O(1)\n",
    "    # Hint: Consider Memory Management\n",
    "    truePositiveRate = [] #O(1)\n",
    "    falsePositiveRate = [] #O(1)\n",
    "\n",
    "    #Hint: Although not explicitly clear, the loop structure below is an \n",
    "        #embeded loop ie, O(n^2) ... do you see why??\n",
    "    #Hint: If you sort the confidences first you can improve the iteration scheme.\n",
    "    \n",
    "    # Iterate over all relevant thresholds. Compute TPR and FPR for each and \n",
    "    # append to truePositiveRate , falsePositiveRate lists. \n",
    "\n",
    "    for i in range(len(confs)): #O(n) iterations\n",
    "      maxVal = max(confs)  #O(n) each iteration\n",
    "      argMax = argmax(confs) #O(n) for each iteration as well\n",
    "      confs[argMax] = sentinelValue #O(1) \n",
    "      #print(argMax)\n",
    "      if true_label[argMax]==1: #O(1)\n",
    "        truePositives += 1 #O(1)\n",
    "      else:\n",
    "        falsePositives += 1 #O(1)\n",
    "\n",
    "      truePositiveRate.append(truePositives/totalPositives) #O(1)\n",
    "      falsePositiveRate.append(falsePositives/totalNegatives) #O(1)\n",
    "      #print(truePositiveRate)\n",
    "    return (truePositiveRate, falsePositiveRate) #O(1)\n",
    "    #Total work inside the loop =O(n) per iteration\n",
    "    # Loop runs n times => O(n^2) overall\n",
    "    \n",
    "    #**FINAL ANSWER**##\n",
    "    #Overll: T(n) = O(n) + O(n^2) + O(1) = O(n^2)\n",
    "    \n",
    "    # Plot FPR vs TPR for all possible thresholds \n",
    "    # plt.plot(falsePositiveRate,truePositiveRate, label ='class' + str(i) + ' to all')\n",
    "    # plt.legend()\n",
    "    # plt.xlabel('False Positive Rate')\n",
    "    # plt.ylabel('True Positive Rate')\n",
    "    # plt.show()\n",
    "    #the plot would be O(n) but it is ignored since it is commented out.\n"
   ]
  },
  {
   "cell_type": "code",
   "execution_count": 3,
   "metadata": {},
   "outputs": [],
   "source": [
    "def testComputeAllTPRs(numSamples):\n",
    "\n",
    "  confList = []\n",
    "  labels = []\n",
    "  maxVal = 10000\n",
    "  #numSamples = 10000\n",
    "  for i in range(0,numSamples):\n",
    "    n = random.randint(1,maxVal)\n",
    "    confList.append(n/maxVal)\n",
    "    if n/maxVal > .5: \n",
    "      lab = 1 \n",
    "    else: \n",
    "      lab = 0\n",
    "    labels.append(lab)\n",
    "  #print(labels)\n",
    "  computeAllTPRs(labels, deepcopy(confList))  # Why a deepcopy here?\n",
    "  #Do a deepcopy to avoid the side effects from in-place modifactions in our original function "
   ]
  },
  {
   "cell_type": "markdown",
   "metadata": {
    "id": "J0aNsuFFMzLt"
   },
   "source": [
    "Below, provide your implementation for Question #2."
   ]
  },
  {
   "cell_type": "code",
   "execution_count": 4,
   "metadata": {
    "id": "I4SoYMYBMyzA"
   },
   "outputs": [],
   "source": [
    "def computeAllTPRs_improved(true_label, confs):\n",
    "    '''\n",
    "    For the improved version of computeAllTPRs,\n",
    "    use sorting instead of repeatedly scanning for max values.\n",
    "    Overall time complexity should be  O(nlogn)\n",
    "    Final T(n) should be at the bottom but it will also be T(n) = O(nlogn)\n",
    "    '''\n",
    "\n",
    "    sentinelValue = -1               #O(1)\n",
    "    totalPositives = sum(true_label) #O(n)\n",
    "    totalNegatives = len(true_label) - totalPositives #O(1)\n",
    "    truePositives = 0                #O(1)\n",
    "    falsePositives = 0               #O(1)\n",
    "    truePositiveRate = []            #O(1)\n",
    "    falsePositiveRate = []           #O(1)\n",
    "\n",
    "    #Pair confidences with labels and then sort by confidence descending\n",
    "    paired = list(zip(confs, true_label))   #O(n)\n",
    "    paired.sort(key=lambda x: x[0], reverse=True) #O(nlogn)\n",
    "\n",
    "    # Sweep through sorted pairs once\n",
    "    for conf, label in paired:       #Loop runs n times => O(n)\n",
    "        if label == 1:               #O(1)\n",
    "            truePositives += 1       #O(1)\n",
    "        else:\n",
    "            falsePositives += 1      #O(1)\n",
    "\n",
    "        truePositiveRate.append(truePositives / totalPositives)   #O(1)\n",
    "        falsePositiveRate.append(falsePositives / totalNegatives) #O(1)\n",
    "\n",
    "    # Overall:\n",
    "    # T(n) = O(n)[sum] + O(n)[zip] + O(n log n)[sort] + O(n)[loop] + O(1) = O(nlogn)\n"
   ]
  },
  {
   "cell_type": "markdown",
   "metadata": {
    "id": "lP72j3GqM6AH"
   },
   "source": [
    "Question #3. Below, provide your code which records and plots the runtime for the original and improved methods. The  code below can be used for reference."
   ]
  },
  {
   "cell_type": "code",
   "execution_count": 5,
   "metadata": {},
   "outputs": [
    {
     "ename": "NameError",
     "evalue": "name 'testComputeAllTPRs_improved' is not defined",
     "output_type": "error",
     "traceback": [
      "\u001b[31m---------------------------------------------------------------------------\u001b[39m",
      "\u001b[31mNameError\u001b[39m                                 Traceback (most recent call last)",
      "\u001b[36mCell\u001b[39m\u001b[36m \u001b[39m\u001b[32mIn[5]\u001b[39m\u001b[32m, line 23\u001b[39m\n\u001b[32m     21\u001b[39m \u001b[38;5;66;03m## Do the improved TPR computation\u001b[39;00m\n\u001b[32m     22\u001b[39m start = time.perf_counter()\n\u001b[32m---> \u001b[39m\u001b[32m23\u001b[39m \u001b[43mtestComputeAllTPRs_improved\u001b[49m(NumSamples)  \n\u001b[32m     24\u001b[39m fastTPR.append(time.perf_counter() - start)\n\u001b[32m     26\u001b[39m sample_size.append(NumSamples) \n",
      "\u001b[31mNameError\u001b[39m: name 'testComputeAllTPRs_improved' is not defined"
     ]
    }
   ],
   "source": [
    "import time\n",
    "\n",
    "# Record the time results\n",
    "slowTPR = []\n",
    "fastTPR  = []\n",
    "sample_size = []\n",
    "\n",
    "size = 10001\n",
    "stepSize = 1000\n",
    "## Calculate the time required to compute at various sample sizes\n",
    "for i in range(0, size, stepSize):\n",
    "    ## Generate the random numSamples\n",
    "    NumSamples = i\n",
    "    \n",
    "    \n",
    "    ## Do the inefficient TPR computation\n",
    "    start = time.perf_counter()\n",
    "    testComputeAllTPRs(NumSamples)\n",
    "    slowTPR.append(time.perf_counter() - start)\n",
    "    \n",
    "    ## Do the improved TPR computation\n",
    "    start = time.perf_counter()\n",
    "    testComputeAllTPRs_improved(NumSamples)  \n",
    "    fastTPR.append(time.perf_counter() - start)\n",
    "\n",
    "    sample_size.append(NumSamples) \n",
    "\n",
    "print(sample_size)\n",
    "## Plot the results\n",
    "plt.plot(range(0, size, stepSize), slowTPR, label = 'Slow TPR Computation')\n",
    "plt.plot(range(0, size, stepSize), fastTPR, label = 'Improved TPR Computation')\n",
    "#plt.plot(range(0, size, stepSize), defaultTime, label = 'Default')\n",
    "plt.legend(frameon = 'none')\n",
    "plt.title('Time Comparison of TPR Computations')\n",
    "plt.xlabel('Sample Size')\n",
    "plt.ylabel('Time')\n",
    "plt.show()\n"
   ]
  },
  {
   "cell_type": "code",
   "execution_count": 6,
   "metadata": {},
   "outputs": [
    {
     "data": {
      "image/png": "[encoded data removed]",
      "text/plain": [
       "<Figure size 800x500 with 1 Axes>"
      ]
     },
     "metadata": {},
     "output_type": "display_data"
    }
   ],
   "source": [
    "import time\n",
    "import random\n",
    "from copy import deepcopy\n",
    "import matplotlib.pyplot as plt\n",
    "\n",
    "#Using the wrapper for the original (inefficient) method\n",
    "def testComputeAllTPRs(numSamples):\n",
    "    confList = []\n",
    "    labels = []\n",
    "    maxVal = 10000\n",
    "    for i in range(numSamples):\n",
    "        n = random.randint(1, maxVal)\n",
    "        confList.append(n / maxVal)\n",
    "        labels.append(1 if n / maxVal > 0.5 else 0)\n",
    "    computeAllTPRs(labels, deepcopy(confList))\n",
    "\n",
    "#Also using the wrapper for the improved method\n",
    "def testComputeAllTPRs_improved(numSamples):\n",
    "    confList = []\n",
    "    labels = []\n",
    "    maxVal = 10000\n",
    "    for i in range(numSamples):\n",
    "        n = random.randint(1, maxVal)\n",
    "        confList.append(n / maxVal)\n",
    "        labels.append(1 if n / maxVal > 0.5 else 0)\n",
    "    computeAllTPRs_improved(labels, deepcopy(confList))\n",
    "\n",
    "#Record runtimes\n",
    "slowTPR = []\n",
    "fastTPR = []\n",
    "sample_size = []\n",
    "\n",
    "max_size = 10001\n",
    "stepSize = 1000\n",
    "\n",
    "for NumSamples in range(0, max_size, stepSize):\n",
    "    sample_size.append(NumSamples)\n",
    "    \n",
    "    #That Time original method\n",
    "    start = time.perf_counter()\n",
    "    testComputeAllTPRs(NumSamples)\n",
    "    slowTPR.append(time.perf_counter() - start)\n",
    "    \n",
    "    #That Time improved method\n",
    "    start = time.perf_counter()\n",
    "    testComputeAllTPRs_improved(NumSamples)\n",
    "    fastTPR.append(time.perf_counter() - start)\n",
    "\n",
    "# Plot results\n",
    "plt.figure(figsize=(8,5))\n",
    "plt.plot(sample_size, slowTPR, label='Original O(n^2)')\n",
    "plt.plot(sample_size, fastTPR, label='Improved O(n log n)')\n",
    "plt.title('Time Comparison of TPR Computations')\n",
    "plt.xlabel('Sample Size (n)')\n",
    "plt.ylabel('Runtime (seconds)')\n",
    "plt.legend(frameon=False)\n",
    "plt.grid(True)\n",
    "plt.show()\n"
   ]
  }
 ],
 "metadata": {
  "colab": {
   "collapsed_sections": [],
   "name": "5012_HW2_sortFirst.ipynb",
   "provenance": []
  },
  "kernelspec": {
   "display_name": "base",
   "language": "python",
   "name": "python3"
  },
  "language_info": {
   "codemirror_mode": {
    "name": "ipython",
    "version": 3
   },
   "file_extension": ".py",
   "mimetype": "text/x-python",
   "name": "python",
   "nbconvert_exporter": "python",
   "pygments_lexer": "ipython3",
   "version": "3.13.5"
  }
 },
 "nbformat": 4,
 "nbformat_minor": 4
}
